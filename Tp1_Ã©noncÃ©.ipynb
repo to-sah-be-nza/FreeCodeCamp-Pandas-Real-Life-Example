{
  "cells": [
    {
      "cell_type": "markdown",
      "metadata": {
        "id": "view-in-github",
        "colab_type": "text"
      },
      "source": [
        "<a href=\"https://colab.research.google.com/github/to-sah-be-nza/FreeCodeCamp-Pandas-Real-Life-Example/blob/master/Tp1_A%CC%83%C2%A9noncA%CC%83%C2%A9.ipynb\" target=\"_parent\"><img src=\"https://colab.research.google.com/assets/colab-badge.svg\" alt=\"Open In Colab\"/></a>"
      ]
    },
    {
      "cell_type": "markdown",
      "metadata": {
        "id": "Vy4p5c53uhxi"
      },
      "source": [
        "# TD 1: Environnement de programmation et premiers pas avec Python"
      ]
    },
    {
      "cell_type": "markdown",
      "metadata": {
        "id": "VRRvrIlsuhxk"
      },
      "source": [
        "---\n",
        "## 2.Utilisation du notebook Python\n",
        "\n",
        "Dans un premier temps, nous allons voir comment utiliser le notebook. Le notebook permet d'écrire du code que l'on peut évaluer au fur et à mesure. Plus tard, nous programmerons dans un fichier texte, en utilisant l'éditeur VisualStudioCode (VSCode dans la suite) et l'environnement qu'il fournit pour écrire des programmes en Python.\n",
        "\n",
        "Un notebook contient des *cellules* qui sont de deux sortes: il y a des cellules de texte écrites dans un langage de mise en forme de texte appelé *Markdown*, et les cellules de code que vous allez remplir. Les cellules de code sont sur fond gris et un triangle gris apparait sur la gauche de la cellule lorsque votre souris la survole.\n",
        "\n",
        "1. Dans la cellule de code suivante, tapez `1 + 1` puis évaluez la cellule en cliquant sur le triangle gris situé à gauche de la cellule.\n",
        "\n",
        "\n"
      ]
    },
    {
      "cell_type": "code",
      "execution_count": 1,
      "metadata": {
        "id": "3EtGx16muhxk",
        "colab": {
          "base_uri": "https://localhost:8080/"
        },
        "outputId": "ea962473-5ac4-4a68-bff6-0a1598292000"
      },
      "outputs": [
        {
          "output_type": "execute_result",
          "data": {
            "text/plain": [
              "2"
            ]
          },
          "metadata": {},
          "execution_count": 1
        }
      ],
      "source": [
        "1+1"
      ]
    },
    {
      "cell_type": "markdown",
      "metadata": {
        "id": "mhMmmSVLuhxl"
      },
      "source": [
        "2. Cliquez de nouveau sur cette cellule et appuyez sur les touches `SHIFT + ENTREE` du clavier.\n",
        "\n",
        "**Note**: Cela évalue également la cellule de code. Remarquez le numéro qui s'affiche dans les crochets à gauche de la cellule de code : c'est *l'ordre d'évaluation* de la cellule.\n",
        "\n",
        "3. Dans la cellule suivante, affectez le résultat de l'expression `1 + 1` à une variable notée `a`. Bien entendu, évaluez la cellule (on ne le rappellera pas systématiquement)."
      ]
    },
    {
      "cell_type": "code",
      "execution_count": 2,
      "metadata": {
        "id": "P4-LTdBNuhxl"
      },
      "outputs": [],
      "source": [
        "a = 2"
      ]
    },
    {
      "cell_type": "markdown",
      "metadata": {
        "id": "SbbOzhhHuhxl"
      },
      "source": [
        "4. Remarquez que l'évaluation de cette cellule ne génère aucun *texte  en sortie*. Pour connaître la valeur de la variable `a`, tapez le nom de la variable dans la cellule suivante."
      ]
    },
    {
      "cell_type": "code",
      "execution_count": 4,
      "metadata": {
        "id": "9DFZn0jSuhxl",
        "colab": {
          "base_uri": "https://localhost:8080/"
        },
        "outputId": "13b85af3-f664-4b71-f9e7-6cd6bb40f99f"
      },
      "outputs": [
        {
          "output_type": "execute_result",
          "data": {
            "text/plain": [
              "2"
            ]
          },
          "metadata": {},
          "execution_count": 4
        }
      ],
      "source": [
        "a"
      ]
    },
    {
      "cell_type": "markdown",
      "metadata": {
        "id": "vtL5uGg8uhxl"
      },
      "source": [
        "5. Testez maintenant l'expression `print(a)`."
      ]
    },
    {
      "cell_type": "code",
      "execution_count": 5,
      "metadata": {
        "tags": [],
        "id": "Tl4i76Qbuhxl",
        "colab": {
          "base_uri": "https://localhost:8080/"
        },
        "outputId": "655d5d9a-63ed-49f3-a844-5efd130e1368"
      },
      "outputs": [
        {
          "output_type": "stream",
          "name": "stdout",
          "text": [
            "2\n"
          ]
        }
      ],
      "source": [
        "print (a)"
      ]
    },
    {
      "cell_type": "markdown",
      "metadata": {
        "id": "p18B95Oruhxl"
      },
      "source": [
        "Le résultat est identique. La première méthode fonctionne dans le notebook, mais pas dans un programme Python. C'est pourquoi il vaut mieux utiliser la deuxième méthode qui repose sur l'utilisation de la *fonction native* `print()`. L'ensemble de ces fonctions est [disponible ici](https://docs.python.org/fr/3.5/library/functions.html).\n",
        "\n",
        "6. Augmentez de 1 la valeur de `a`. L'expression doit donner le bon résultat quelle que soit la valeur de la variable."
      ]
    },
    {
      "cell_type": "code",
      "execution_count": 6,
      "metadata": {
        "id": "omSiMhYWuhxl"
      },
      "outputs": [],
      "source": [
        "a += 1"
      ]
    },
    {
      "cell_type": "markdown",
      "metadata": {
        "id": "UQ55xm6Suhxl"
      },
      "source": [
        "Et vérifiez en affichant la valeur de `a`."
      ]
    },
    {
      "cell_type": "code",
      "execution_count": 7,
      "metadata": {
        "tags": [],
        "id": "723854PBuhxl",
        "colab": {
          "base_uri": "https://localhost:8080/"
        },
        "outputId": "572f6acf-2f43-4350-8de6-724bf6d919b3"
      },
      "outputs": [
        {
          "output_type": "stream",
          "name": "stdout",
          "text": [
            "3\n"
          ]
        }
      ],
      "source": [
        "print (a)"
      ]
    },
    {
      "cell_type": "markdown",
      "metadata": {
        "id": "VvehgxC2uhxl"
      },
      "source": [
        "Dans la cellule suivante, affectez la valeur 5 à la variable `a` et la valeur 2 à la variable `b`, puis afficher les 2 valeurs avec l'expression `print(a, b)`.\n"
      ]
    },
    {
      "cell_type": "code",
      "execution_count": 9,
      "metadata": {
        "tags": [],
        "id": "XJNlyzUbuhxm",
        "colab": {
          "base_uri": "https://localhost:8080/"
        },
        "outputId": "257e979d-0d97-469d-dcb3-6bda32554014"
      },
      "outputs": [
        {
          "output_type": "stream",
          "name": "stdout",
          "text": [
            "5 2\n"
          ]
        }
      ],
      "source": [
        "a = 5\n",
        "b = 2\n",
        "print (a, b)"
      ]
    },
    {
      "cell_type": "markdown",
      "metadata": {
        "id": "G-nMQvjyuhxm"
      },
      "source": [
        "15. Ecrivez le code qui permet d'échanger la valeur des variables `a` et `b`. Puis affichez leurs valeurs."
      ]
    },
    {
      "cell_type": "code",
      "execution_count": 11,
      "metadata": {
        "tags": [],
        "id": "oOyBtHgwuhxm",
        "colab": {
          "base_uri": "https://localhost:8080/"
        },
        "outputId": "3bc22ff8-ddb2-45ac-ebbb-12a9390ef756"
      },
      "outputs": [
        {
          "output_type": "stream",
          "name": "stdout",
          "text": [
            "2 5\n"
          ]
        }
      ],
      "source": [
        "a = 5\n",
        "b = 2\n",
        "c = a\n",
        "a = b\n",
        "b = c\n",
        "print (a, b)"
      ]
    },
    {
      "cell_type": "markdown",
      "metadata": {
        "id": "EdmE-bSnuhxm"
      },
      "source": [
        "16. Pour enrichir l'affichage, recopiez l'expression `print(\"a vaut\", a, \"et b vaut\", b)`."
      ]
    },
    {
      "cell_type": "code",
      "execution_count": 13,
      "metadata": {
        "tags": [],
        "id": "mf_6vFoGuhxm",
        "colab": {
          "base_uri": "https://localhost:8080/"
        },
        "outputId": "ec7d57ba-a571-4143-9f27-71b6b1579394"
      },
      "outputs": [
        {
          "output_type": "stream",
          "name": "stdout",
          "text": [
            "a vaut 2   et b vaut 5\n"
          ]
        }
      ],
      "source": [
        "print (\"a vaut 2 \", \" et b vaut 5\")"
      ]
    },
    {
      "cell_type": "markdown",
      "metadata": {
        "id": "1dfZCmbGuhxm"
      },
      "source": [
        "17.  Recopiez l'affectation suivante `a = \"hello world\"`, puis affichez la valeur de `a`."
      ]
    },
    {
      "cell_type": "code",
      "execution_count": 18,
      "metadata": {
        "tags": [],
        "id": "f4mDKnsDuhxm",
        "colab": {
          "base_uri": "https://localhost:8080/"
        },
        "outputId": "d7dab818-aabe-4446-89a8-196068ec3ff7"
      },
      "outputs": [
        {
          "output_type": "stream",
          "name": "stdout",
          "text": [
            "hello world\n"
          ]
        }
      ],
      "source": [
        "a = \"hello world\"\n",
        "print (a)"
      ]
    },
    {
      "cell_type": "markdown",
      "metadata": {
        "id": "3H_YjNfjuhxm"
      },
      "source": [
        "**Note**: la variable `a` contenait un entier, et maintenant une chaîne de caractères. En Python les variables ont un *type dynamique* contrairement au type statique où le type des variables est défini une fois pour toutes. De plus ce typage est *implicite*, c'est-à-dire qu'il est déterminé par les objets auxquels les variables font référence sans avoir besoin de l'écrire explicitement.\n",
        "\n",
        "18. Afficher de nouveau la valeur de `a` sans utiliser la fonction `print`. Que constatez-vous?\n",
        "\n",
        "19. Avant de passer à la suite, sauvegardez votre notebook."
      ]
    },
    {
      "cell_type": "markdown",
      "metadata": {
        "id": "QL1z97Q2uhxm"
      },
      "source": [
        "\n",
        "-------------------\n",
        "## 3.Types de données\n",
        "En Python, toute variable ou expression possède un *type* qui définit, entre autres, les opérations que l'on peut lui  appliquer. Parmi les types natifs on peut citer les nombres entiers, les nombres flottants, les chaînes de caractères (string en anglais) et les booléens (Vrai ou Faux).\n",
        "\n",
        "\n",
        "1. Prédisez le type de chacune des expressions suivantes. Vérifiez le à l'aide de la fonction `type()`:\n",
        "\n",
        "* `5`\n",
        "* `5.0`\n",
        "* `\"5\"`\n",
        "* `-5`\n",
        "* `5 / 2`\n",
        "* `5 // 2`\n",
        "* ` 5 == 2  `\n",
        "* `5 = 2`"
      ]
    },
    {
      "cell_type": "code",
      "execution_count": 21,
      "metadata": {
        "id": "s0Dx_oghuhxm",
        "colab": {
          "base_uri": "https://localhost:8080/",
          "height": 140
        },
        "outputId": "d88e704b-ba6b-4619-d3b9-abb5996400b0"
      },
      "outputs": [
        {
          "output_type": "error",
          "ename": "SyntaxError",
          "evalue": "expression cannot contain assignment, perhaps you meant \"==\"? (<ipython-input-21-902d08e02ea2>, line 8)",
          "traceback": [
            "\u001b[0;36m  File \u001b[0;32m\"<ipython-input-21-902d08e02ea2>\"\u001b[0;36m, line \u001b[0;32m8\u001b[0m\n\u001b[0;31m    print(type(5 = 2))\u001b[0m\n\u001b[0m               ^\u001b[0m\n\u001b[0;31mSyntaxError\u001b[0m\u001b[0;31m:\u001b[0m expression cannot contain assignment, perhaps you meant \"==\"?\n"
          ]
        }
      ],
      "source": [
        "print(type(5))\n",
        "print(type(5.0))\n",
        "print(type(\"5\"))\n",
        "print(type(-5))\n",
        "print(type(5 / 2))\n",
        "print(type(5 // 2))\n",
        "print(type(5 == 2))\n",
        "print(type(5 = 2))"
      ]
    },
    {
      "cell_type": "markdown",
      "metadata": {
        "id": "mMJI2c0iuhxm"
      },
      "source": [
        "Ce sont les types de base du langage Python que nous allons étudier dans la suite. Notez que les nombres flottants s'écrivent avec un point et non avec une virgule.\n",
        "\n",
        "2. Faites la même chose avec les expressions suivantes:\n",
        "\n",
        "* `(5, 2)`\n",
        "* `[5, 2]`\n",
        "* `{5, 2}`\n"
      ]
    },
    {
      "cell_type": "code",
      "execution_count": 23,
      "metadata": {
        "id": "kfPyGjs1uhxn",
        "colab": {
          "base_uri": "https://localhost:8080/"
        },
        "outputId": "4bf6a0a6-81b0-40d9-ffa9-ae915f270b34"
      },
      "outputs": [
        {
          "output_type": "stream",
          "name": "stdout",
          "text": [
            "<class 'tuple'>\n",
            "<class 'list'>\n",
            "<class 'set'>\n"
          ]
        }
      ],
      "source": [
        "print (type((5, 2)))\n",
        "print(type([5, 2]))\n",
        "print(type({5, 2}))"
      ]
    },
    {
      "cell_type": "markdown",
      "metadata": {
        "id": "FKsMpBYvuhxn"
      },
      "source": [
        "Ce sont des types avancés, qui permettent de construire des structures de données plus complexes, que nous apprendrons à manipuler plus tard. Pouvez-vous trouver une expression ayant un autre type?  Vous pouvez consulter la [documentation Python sur les types](https://docs.python.org/fr/3/library/stdtypes.html).\n",
        "\n",
        "3. Maintenant, affectez une valeur à une variable `x`, et écrivez le code qui affiche, par exemple, `le type de x est <class 'int'>` si jamais la valeur stockée dans `x` est un entier.\n"
      ]
    },
    {
      "cell_type": "code",
      "execution_count": 24,
      "metadata": {
        "tags": [],
        "id": "-qRanZfuuhxn",
        "colab": {
          "base_uri": "https://localhost:8080/"
        },
        "outputId": "0507b5d4-7c74-483f-e2fe-1204555801f7"
      },
      "outputs": [
        {
          "output_type": "stream",
          "name": "stdout",
          "text": [
            "<class 'int'>\n"
          ]
        }
      ],
      "source": [
        "x = 2\n",
        "print (type ((2)))"
      ]
    },
    {
      "cell_type": "markdown",
      "metadata": {
        "id": "7b7ogRaQuhxn"
      },
      "source": [
        "\n",
        "### 3.1 Type numérique entier\n",
        "\n",
        "1. Affectez une valeur entière à une variable `v`.\n"
      ]
    },
    {
      "cell_type": "code",
      "execution_count": 26,
      "metadata": {
        "id": "VdzsdsUWuhxn"
      },
      "outputs": [],
      "source": [
        "v = 374"
      ]
    },
    {
      "cell_type": "markdown",
      "metadata": {
        "id": "8AjF6koouhxn"
      },
      "source": [
        "2. Ecrivez le résultat de la division entière de `v` par 11. Par exemple, si `v` vaut 149, le résultat affiché doit être de la forme:\n",
        "\n",
        "`149 = 13 x 11 + 6`"
      ]
    },
    {
      "cell_type": "code",
      "execution_count": 28,
      "metadata": {
        "tags": [],
        "id": "flhqY7C4uhxn",
        "colab": {
          "base_uri": "https://localhost:8080/"
        },
        "outputId": "04fb528e-bb24-4cc2-9be1-58fd6e684e19"
      },
      "outputs": [
        {
          "output_type": "stream",
          "name": "stdout",
          "text": [
            "149 = 13 x 11 + 6\n"
          ]
        }
      ],
      "source": [
        "v = 149\n",
        "quotient = v // 11\n",
        "reste = v % 11\n",
        "resultat = f\"{v} = {quotient} x 11 + {reste}\"\n",
        "print(resultat)"
      ]
    },
    {
      "cell_type": "markdown",
      "metadata": {
        "id": "dEcIhGehuhxn"
      },
      "source": [
        "3. Prédisez le résultat des expressions suivantes, puis évaluer le code:\n",
        "* `3 * (10 / 3)`\n",
        "* `3 * (10 // 3)`\n",
        "* `(3 * 10) // 3`"
      ]
    },
    {
      "cell_type": "code",
      "execution_count": 29,
      "metadata": {
        "id": "_RdI6jGcuhxn",
        "colab": {
          "base_uri": "https://localhost:8080/"
        },
        "outputId": "75c85314-4aed-4c2e-a0b9-17597b20889f"
      },
      "outputs": [
        {
          "output_type": "execute_result",
          "data": {
            "text/plain": [
              "10"
            ]
          },
          "metadata": {},
          "execution_count": 29
        }
      ],
      "source": [
        "3 * (10 / 3)\n",
        "3 * (10 // 3)\n",
        "(3 * 10) // 3"
      ]
    },
    {
      "cell_type": "markdown",
      "metadata": {
        "id": "HRqtGbyxuhxn"
      },
      "source": [
        "5. Le résultat change-t'il si on retire les parenthèses des expressions précédentes?"
      ]
    },
    {
      "cell_type": "markdown",
      "source": [
        "réponse:"
      ],
      "metadata": {
        "id": "zYcvjZ4AJyvl"
      }
    },
    {
      "cell_type": "markdown",
      "metadata": {
        "id": "Pvfv5j5yuhxn"
      },
      "source": [
        "\n",
        "6. Affectez un nombre entier à une variable, puis écrivez une expression qui affiche `True` si la variable est paire et `False` sinon."
      ]
    },
    {
      "cell_type": "code",
      "execution_count": 31,
      "metadata": {
        "tags": [],
        "id": "BJx280okuhxn",
        "colab": {
          "base_uri": "https://localhost:8080/"
        },
        "outputId": "c6bc7cf3-d4f4-462d-cb0d-d900c8bba493"
      },
      "outputs": [
        {
          "output_type": "stream",
          "name": "stdout",
          "text": [
            "10.0\n"
          ]
        }
      ],
      "source": [
        "a = 20\n",
        "b = a / 2\n",
        "print (b)"
      ]
    },
    {
      "cell_type": "markdown",
      "metadata": {
        "id": "_YnlskaYuhxo"
      },
      "source": [
        "7. L'opérateur puissance s'écrit `**`. Par exemple, 2 à la puissance 10 s'écrit `2 ** 10`. Affichez la valeur de 2 puissance 256. Combien de chiffres a ce nombre (en évitant de compter sur l'écran)?"
      ]
    },
    {
      "cell_type": "code",
      "execution_count": 32,
      "metadata": {
        "tags": [],
        "id": "4arMDw8duhxo",
        "colab": {
          "base_uri": "https://localhost:8080/"
        },
        "outputId": "dbf1baba-6c73-4cdf-d5ad-d33dad3333f7"
      },
      "outputs": [
        {
          "output_type": "execute_result",
          "data": {
            "text/plain": [
              "115792089237316195423570985008687907853269984665640564039457584007913129639936"
            ]
          },
          "metadata": {},
          "execution_count": 32
        }
      ],
      "source": [
        "2 ** 256"
      ]
    },
    {
      "cell_type": "markdown",
      "metadata": {
        "id": "9sEeN7MPuhxo"
      },
      "source": [
        "Ecrire l'expression qui donne le dernier chiffre du nombre référencé par la variable `a`."
      ]
    },
    {
      "cell_type": "code",
      "execution_count": 40,
      "metadata": {
        "tags": [],
        "id": "BF5tuqOzuhxo",
        "colab": {
          "base_uri": "https://localhost:8080/"
        },
        "outputId": "53703d08-99a2-40cf-a68b-7c09086e3418"
      },
      "outputs": [
        {
          "output_type": "stream",
          "name": "stdout",
          "text": [
            "6\n"
          ]
        }
      ],
      "source": [
        "a = 2 ** 256\n",
        "dernier_chiffre = a % 10\n",
        "print(dernier_chiffre)\n"
      ]
    },
    {
      "cell_type": "markdown",
      "metadata": {
        "id": "XZIGzFLfuhxo"
      },
      "source": [
        "Ecrire l'expression qui donne l'avant-dernier chiffre du nombre référencé par la variable `a`."
      ]
    },
    {
      "cell_type": "code",
      "execution_count": 44,
      "metadata": {
        "tags": [],
        "id": "wzEhPKpyuhxo",
        "colab": {
          "base_uri": "https://localhost:8080/"
        },
        "outputId": "ed47e0fc-92fc-4783-a274-96a594729123"
      },
      "outputs": [
        {
          "output_type": "stream",
          "name": "stdout",
          "text": [
            "3\n"
          ]
        }
      ],
      "source": [
        "a = 2 ** 256\n",
        "avant_dernier_chiffre = (a // 10)%10\n",
        "print(avant_dernier_chiffre)"
      ]
    },
    {
      "cell_type": "markdown",
      "metadata": {
        "id": "VSPHsCiEuhxo"
      },
      "source": [
        "\n",
        "### 3.2 Nombres flottants\n",
        "\n",
        "1. L'expression `0.2 + 0.4` est-elle égale, supérieure ou inférieure à `0.6`?"
      ]
    },
    {
      "cell_type": "code",
      "execution_count": 45,
      "metadata": {
        "tags": [],
        "id": "s10xNJYfuhxo",
        "colab": {
          "base_uri": "https://localhost:8080/"
        },
        "outputId": "075bb894-3495-40ca-a809-87d47ee8d114"
      },
      "outputs": [
        {
          "output_type": "execute_result",
          "data": {
            "text/plain": [
              "0.6000000000000001"
            ]
          },
          "metadata": {},
          "execution_count": 45
        }
      ],
      "source": [
        "0.2 + 0.4"
      ]
    },
    {
      "cell_type": "markdown",
      "metadata": {
        "id": "_jcChe7cuhxo"
      },
      "source": [
        "2. Affectez la valeur 0.5 à une variable `x`. Multipliez `x` par $2^{30}$ puis convertissez le résultat obtenu en valeur entière (utilisez la fonction `int()`) puis divisez le résultat par $2^{30}$ (faire une division flottante)."
      ]
    },
    {
      "cell_type": "code",
      "execution_count": 49,
      "metadata": {
        "tags": [],
        "id": "fcCfUWNFuhxp"
      },
      "outputs": [],
      "source": [
        "x = 0.5\n"
      ]
    },
    {
      "cell_type": "code",
      "source": [
        "resultat = x * 2 ** 30"
      ],
      "metadata": {
        "id": "E_sZWBmiR36w"
      },
      "execution_count": 50,
      "outputs": []
    },
    {
      "cell_type": "code",
      "source": [
        "entier = int (resultat)"
      ],
      "metadata": {
        "id": "qXIf4pPMR-Ee"
      },
      "execution_count": 51,
      "outputs": []
    },
    {
      "cell_type": "code",
      "source": [
        "final = entier / 2 ** 30"
      ],
      "metadata": {
        "id": "V95P1xDYSDjP"
      },
      "execution_count": 52,
      "outputs": []
    },
    {
      "cell_type": "markdown",
      "metadata": {
        "id": "admfnMx5uhxp"
      },
      "source": [
        "3. Remplacez la valeur de `x` par 0.1 et refaites le calcul."
      ]
    },
    {
      "cell_type": "markdown",
      "metadata": {
        "id": "5I1Wa-WTuhxp"
      },
      "source": [
        "### 3.3 Chaînes de caractères"
      ]
    },
    {
      "cell_type": "markdown",
      "metadata": {
        "id": "m2BM_ifRuhxp"
      },
      "source": [
        "1. Dans la cellule de code suivante, affichez le résultat de l'expression `a + b`, et de `b + a`"
      ]
    },
    {
      "cell_type": "code",
      "execution_count": 53,
      "metadata": {
        "tags": [],
        "id": "O4rq4rXbuhxp",
        "colab": {
          "base_uri": "https://localhost:8080/"
        },
        "outputId": "dc4c77d3-9d0c-43e7-b803-0cf4bdfd914a"
      },
      "outputs": [
        {
          "output_type": "stream",
          "name": "stdout",
          "text": [
            "hello world\n",
            "world hello\n"
          ]
        }
      ],
      "source": [
        "a = \"hello\"\n",
        "b = 'world'\n",
        "print (a, b)\n",
        "print (b, a)"
      ]
    },
    {
      "cell_type": "markdown",
      "metadata": {
        "id": "T6_FLbx3uhxp"
      },
      "source": [
        "**Notes**: les chaînes de caractères peuvent s'écrire avec des guillemets simples ou doubles (d'autres formes existent). L'opération d'addition de chaînes est appelée *concaténation*.\n",
        "\n",
        "2. Dans la cellule précédente, ajoutez un espace entre `hello` et `world` sans modifier les variables."
      ]
    },
    {
      "cell_type": "markdown",
      "metadata": {
        "id": "V5miNIh2uhxp"
      },
      "source": [
        "3. Avant d'afficher le résultat, prédire ce que valent `a * 3` et `(a + b) * 2`?"
      ]
    },
    {
      "cell_type": "code",
      "execution_count": 54,
      "metadata": {
        "tags": [],
        "id": "hPqsu4nkuhxp",
        "colab": {
          "base_uri": "https://localhost:8080/",
          "height": 35
        },
        "outputId": "f214636c-bcb7-44dc-de8e-c550d3ef4558"
      },
      "outputs": [
        {
          "output_type": "execute_result",
          "data": {
            "text/plain": [
              "'helloworldhelloworld'"
            ],
            "application/vnd.google.colaboratory.intrinsic+json": {
              "type": "string"
            }
          },
          "metadata": {},
          "execution_count": 54
        }
      ],
      "source": [
        "a * 3\n",
        "(a + b) * 2"
      ]
    },
    {
      "cell_type": "markdown",
      "metadata": {
        "id": "P3GO5IGXuhxq"
      },
      "source": [
        "4. On peut appliquer des *méthodes* (ce sont des fonctions qui s'appliquent à un certain type d'objets) à une chaîne de caractères. Par exemple tester ce que vaut `a.upper()`."
      ]
    },
    {
      "cell_type": "code",
      "execution_count": 55,
      "metadata": {
        "id": "fOu1AAnNuhxq",
        "colab": {
          "base_uri": "https://localhost:8080/",
          "height": 35
        },
        "outputId": "274b2266-b151-492c-ac5d-1702bb668e45"
      },
      "outputs": [
        {
          "output_type": "execute_result",
          "data": {
            "text/plain": [
              "'HELLO'"
            ],
            "application/vnd.google.colaboratory.intrinsic+json": {
              "type": "string"
            }
          },
          "metadata": {},
          "execution_count": 55
        }
      ],
      "source": [
        "a.upper()"
      ]
    },
    {
      "cell_type": "markdown",
      "metadata": {
        "id": "OJnAVXFBuhxq"
      },
      "source": [
        "Vous pouvez voir la liste des méthodes associées aux chaînes de caractères (ainsi que sur les autres types natifs) sur [cette page](https://docs.python.org/fr/3/library/stdtypes.html#string-methods).\n",
        "\n",
        "5. La variable `a` a-t'elle été modifiée?"
      ]
    },
    {
      "cell_type": "code",
      "execution_count": 61,
      "metadata": {
        "id": "vnZ4k03xuhxq",
        "colab": {
          "base_uri": "https://localhost:8080/",
          "height": 35
        },
        "outputId": "955dc4b3-8b90-414a-ac9a-8ee6c064c51b"
      },
      "outputs": [
        {
          "output_type": "execute_result",
          "data": {
            "text/plain": [
              "'hello'"
            ],
            "application/vnd.google.colaboratory.intrinsic+json": {
              "type": "string"
            }
          },
          "metadata": {},
          "execution_count": 61
        }
      ],
      "source": [
        "a"
      ]
    },
    {
      "cell_type": "markdown",
      "metadata": {
        "id": "fTXdfwfYuhxq"
      },
      "source": [
        "6. Que vaut `a > b`?"
      ]
    },
    {
      "cell_type": "code",
      "execution_count": 59,
      "metadata": {
        "tags": [],
        "id": "uHe-mqXouhxq",
        "colab": {
          "base_uri": "https://localhost:8080/"
        },
        "outputId": "3973f1e1-b508-4e28-b71b-415f03a6e9c8"
      },
      "outputs": [
        {
          "output_type": "execute_result",
          "data": {
            "text/plain": [
              "False"
            ]
          },
          "metadata": {},
          "execution_count": 59
        }
      ],
      "source": [
        "a > b"
      ]
    },
    {
      "cell_type": "markdown",
      "metadata": {
        "id": "GM-Jv-Yquhxq"
      },
      "source": [
        "7. Quelle est la signification de cette comparaison?"
      ]
    },
    {
      "cell_type": "markdown",
      "metadata": {
        "id": "basMnqHzuhxq"
      },
      "source": [
        "### 3.4 Conversions"
      ]
    },
    {
      "cell_type": "markdown",
      "metadata": {
        "id": "n19gX6npuhxq"
      },
      "source": [
        "1. Dans la cellule de code suivante, devinez ce que vaut `a * 2` avant de l'afficher."
      ]
    },
    {
      "cell_type": "code",
      "execution_count": 62,
      "metadata": {
        "tags": [],
        "id": "zDuiqrJGuhxq",
        "colab": {
          "base_uri": "https://localhost:8080/"
        },
        "outputId": "c07e5f5b-ac90-41d1-8697-b6ebbaa9ae67"
      },
      "outputs": [
        {
          "output_type": "stream",
          "name": "stdout",
          "text": [
            "3232\n"
          ]
        }
      ],
      "source": [
        "a = \"32\"\n",
        "print(a * 2)"
      ]
    },
    {
      "cell_type": "markdown",
      "metadata": {
        "id": "PtlS2cXzuhxq"
      },
      "source": [
        "2. Utilisez la fonction de conversion `int()` pour obtenir le résultat de la multiplication de nombres entiers (64 ici)."
      ]
    },
    {
      "cell_type": "code",
      "execution_count": 63,
      "metadata": {
        "tags": [],
        "id": "-mXfL7nquhxr",
        "colab": {
          "base_uri": "https://localhost:8080/"
        },
        "outputId": "a0d715cb-f672-489f-f065-cf6f7162146e"
      },
      "outputs": [
        {
          "output_type": "stream",
          "name": "stdout",
          "text": [
            "64\n"
          ]
        }
      ],
      "source": [
        "a = 8\n",
        "b = 8\n",
        "resultat = 8 * 8\n",
        "entier = int(resultat)\n",
        "print(entier)"
      ]
    },
    {
      "cell_type": "markdown",
      "metadata": {
        "id": "ZKin4HjPuhxr"
      },
      "source": [
        "3. Ecrivez l'expression `s = input(\"Tape quelquechose au clavier\")` puis affichez `s`. Que se passe-t'il?"
      ]
    },
    {
      "cell_type": "code",
      "execution_count": 64,
      "metadata": {
        "tags": [],
        "id": "0sxN7GK3uhxr",
        "colab": {
          "base_uri": "https://localhost:8080/"
        },
        "outputId": "5cb0fa98-b14e-4d1b-82aa-0173777dc5aa"
      },
      "outputs": [
        {
          "output_type": "stream",
          "name": "stdout",
          "text": [
            "Tape quelque chose au clavierenos\n",
            "enos\n"
          ]
        }
      ],
      "source": [
        "s = input(\"Tape quelque chose au clavier\")\n",
        "print(s)"
      ]
    },
    {
      "cell_type": "markdown",
      "metadata": {
        "id": "oMcv6SX5uhxr"
      },
      "source": [
        "4. Recopiez le code de la cellule précédente. L'utilisateur doit saisir un nombre entier puis vous affichez ce nombre multiplié par 2."
      ]
    },
    {
      "cell_type": "code",
      "execution_count": 69,
      "metadata": {
        "tags": [],
        "id": "OTjUUJR5uhxr",
        "colab": {
          "base_uri": "https://localhost:8080/"
        },
        "outputId": "bd8895b6-3721-4f56-f41e-6638e4ab4bdc"
      },
      "outputs": [
        {
          "output_type": "stream",
          "name": "stdout",
          "text": [
            "Rentre une valeur : 2\n",
            " le resultat est multiplier par 2 :  4\n"
          ]
        }
      ],
      "source": [
        "s = int(input(\"Rentre une valeur : \"))\n",
        "resultat = s * 2\n",
        "print(\" le resultat est multiplier par 2 : \", resultats)"
      ]
    },
    {
      "cell_type": "markdown",
      "metadata": {
        "id": "Q00AaO7Juhxr"
      },
      "source": [
        "5. ́Ecrivez le code qui demande son âge à l’utilisateur et répond en utilisant sa réponse au milieu d’une phrase, comme par exemple en lui donnant l’âge qu’il aura en 2031 le même jour."
      ]
    },
    {
      "cell_type": "code",
      "execution_count": 71,
      "metadata": {
        "tags": [],
        "id": "2TdcBvfmuhxr",
        "colab": {
          "base_uri": "https://localhost:8080/"
        },
        "outputId": "99eb88e6-43f6-4f12-bdee-f45d6f292554"
      },
      "outputs": [
        {
          "output_type": "stream",
          "name": "stdout",
          "text": [
            "quel âge as-tu ? 20\n",
            "En 2031 vous aurez  27 ans le même jour\n"
          ]
        }
      ],
      "source": [
        "s = int (input(\"quel âge as-tu ? \"))\n",
        "age_en_2031 = s + (2031 - 2024)\n",
        "print (\"En 2031 vous aurez \", age_en_2031, \"ans le même jour\")"
      ]
    },
    {
      "cell_type": "markdown",
      "metadata": {
        "id": "qRAnqgDRuhxr"
      },
      "source": [
        "6. Avant de passer à la suite, sauvegardez votre notebook sur github."
      ]
    },
    {
      "cell_type": "markdown",
      "metadata": {
        "id": "HU4TrSX6uhxr"
      },
      "source": [
        "---\n",
        "## Exercices supplémentaires"
      ]
    },
    {
      "cell_type": "markdown",
      "metadata": {
        "tags": [],
        "id": "UT7G2G3suhxs"
      },
      "source": [
        "1. Parmi les chaînes de caractères suivantes, lesquelles peuvent être des noms de variable?\n",
        "* `f`\n",
        "* `l`\n",
        "* `f2`\n",
        "* `2f`\n",
        "* `totolehero`\n",
        "* `toto_le_hero`\n",
        "* `import`\n",
        "* `toto2-le-retour`\n",
        "\n",
        "Et parmi les noms corrects, lesquels ne sont pas recommandés (voir la [PEP8](https://www.python.org/dev/peps/pep-0008/#naming-conventions))?\n"
      ]
    },
    {
      "cell_type": "markdown",
      "metadata": {
        "id": "brAfq_pxuhxs"
      },
      "source": [
        "2. Demandez à l'utilisateur de rentrer un nombre, puis afficher sa racine carrée en faisant une phrase."
      ]
    },
    {
      "cell_type": "code",
      "execution_count": null,
      "metadata": {
        "tags": [],
        "id": "9DTCmO-duhxs"
      },
      "outputs": [],
      "source": []
    },
    {
      "cell_type": "markdown",
      "metadata": {
        "id": "IGITZkwTuhxs"
      },
      "source": [
        "3. Ecrivez le code qui affiche:\n",
        "* la chaı̂ne ”aaaaaa...” (250 ”a”)\n",
        "* la chaı̂ne ”bbbb....a” (250 ”b” suivis d’un ”a”)\n",
        "* la chaı̂ne ”bbbb....aaabbb...” (250 ”b” suivis d’un ”a” suivi de 100 b)\n",
        "* 50 fois ”bonjour” en allant à la ligne à chaque fois (utilisez ”\\n”)\n"
      ]
    },
    {
      "cell_type": "code",
      "execution_count": null,
      "metadata": {
        "tags": [],
        "id": "SnQ0-Sfruhxs"
      },
      "outputs": [],
      "source": []
    },
    {
      "cell_type": "markdown",
      "metadata": {
        "id": "f3sDARwtuhxs"
      },
      "source": [
        "4. Evaluez chaque expression numérique étape par étape selon la priorité des opérateurs.\n",
        "    * a) 3 + 4 * 6\n",
        "    * b) 3 * 4 / 6 + 6\n",
        "    * c) 2 * 3 / 12 * 8 / 4\n",
        "    * d) 10 * ( 1 + 7 * 3 )\n",
        "    * e) 20 - 2 / 6 + 3\n",
        "    * f) ( 20 - 2 ) / ( 6 + 3 )\n",
        "    * g) 10 + 15 % 2 + 4.3\n",
        "    * h) 3 * 4 / 6 + 6"
      ]
    },
    {
      "cell_type": "code",
      "execution_count": null,
      "metadata": {
        "id": "R5hkXY8Luhxs"
      },
      "outputs": [],
      "source": []
    },
    {
      "cell_type": "markdown",
      "metadata": {
        "id": "GZtkMh32uhxs"
      },
      "source": [
        "5. Saisir, Calculer et Afficher\n",
        "\n",
        "    * (1) Ecrire un code qui permet de faire les tâches suivantes :\n",
        "        * a) Saisir deux variables, a et b, de type entier.\n",
        "        * b) Calculer la somme de ces deux variables.\n",
        "        * c) Affecter le résultat dans la variable « Somme ».\n",
        "        * d) Calculer le quotient de ces deux variables.\n",
        "        * e) Affecter le résultat dans la variable « Quotient ».\n",
        "        * f) Afficher les valeurs des variables « Somme » et « Quotient ». Le message doit être sous la forme suivante «La somme de 3 et 1 est 4 et le quotient de 3 sur 1 est 3 »\n",
        "        \n",
        "    * (2) Quel est le nombre total de variables utilisées pour cet algorithme ?\n",
        "    \n",
        "    * (3) On veut, maintenant, minimiser le nombre de variables utilisées par le code précédent.\n",
        "        * a) Quel est le nombre maximal de variables qu’on peut supprimer ?\n",
        "        * b) Quel est le nombre minimal de variables qu’on peut supprimer ?\n",
        "        \n",
        "    * (4) Ecrire le code correspondant à 3.a.    "
      ]
    },
    {
      "cell_type": "code",
      "execution_count": null,
      "metadata": {
        "id": "oXWgYJeeuhxt"
      },
      "outputs": [],
      "source": []
    },
    {
      "cell_type": "markdown",
      "metadata": {
        "id": "s5TQknyeuhxt"
      },
      "source": [
        "6. Ecrire un code qui permet de calculer le diamètre, le périmètre et la surface d’un cercle. Pour ce faire nous allons procéder comme suit :\n",
        "        * a) Déclarer la variable constante 𝝅 et la variable Ray contenant la valeur 10.\n",
        "        * b) Déclarer trois variables DM, PR et SR.\n",
        "        * c) Affecter respectivement à DM, PR et SR les valeurs du diamètre, du périmètre et de la surface d’un cercle dont le rayon est Ray.\n",
        "        * d) Afficher le message suivant \"Le cercle de rayon AA a pour diamètre BB, pour périmètre CC et pour surface DD\"."
      ]
    },
    {
      "cell_type": "code",
      "execution_count": null,
      "metadata": {
        "id": "9_8KzNq8uhxt"
      },
      "outputs": [],
      "source": []
    }
  ],
  "metadata": {
    "kernelspec": {
      "display_name": "Python 3",
      "language": "python",
      "name": "python3"
    },
    "language_info": {
      "codemirror_mode": {
        "name": "ipython",
        "version": 3
      },
      "file_extension": ".py",
      "mimetype": "text/x-python",
      "name": "python",
      "nbconvert_exporter": "python",
      "pygments_lexer": "ipython3",
      "version": "3.7.6-final"
    },
    "colab": {
      "provenance": [],
      "include_colab_link": true
    }
  },
  "nbformat": 4,
  "nbformat_minor": 0
}